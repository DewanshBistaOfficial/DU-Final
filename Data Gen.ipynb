{
 "cells": [
  {
   "cell_type": "markdown",
   "id": "2fb40ee7-1cc3-4975-97aa-76e4ace80dc1",
   "metadata": {},
   "source": [
    "## Imports"
   ]
  },
  {
   "cell_type": "code",
   "execution_count": 1,
   "id": "6ed3d246-5fa7-4b4c-bf46-85e50fdb6f3b",
   "metadata": {},
   "outputs": [],
   "source": [
    "import os\n",
    "import openai\n",
    "import random\n",
    "import pandas as pd\n",
    "from polygon import RESTClient\n",
    "from datetime import datetime"
   ]
  },
  {
   "cell_type": "markdown",
   "id": "92924d8c-e5a0-429a-912f-1c1911bbf357",
   "metadata": {},
   "source": [
    "## Variables"
   ]
  },
  {
   "cell_type": "code",
   "execution_count": 2,
   "id": "ea0b69e0-843a-4c9f-9f2e-d18621bf3693",
   "metadata": {},
   "outputs": [],
   "source": [
    "#List of stocks for the dataset\n",
    "stocks = [\"AAPL\", \"NVDA\", \"MSFT\", \"GOOGL\", \"NFLX\"]"
   ]
  },
  {
   "cell_type": "code",
   "execution_count": 3,
   "id": "268ed762-6769-4ab3-9c8b-a4991cbab6dd",
   "metadata": {},
   "outputs": [],
   "source": [
    "#List of possible contexts\n",
    "context = [\n",
    "    \"You are a senior quantitative data scientist. You specialize in financial time series modeling and generating synthetic features to improve predictive accuracy of stock price models.\",\n",
    "    \"You are a financial analyst who enriches stock datasets with both quantitative and qualitative features, including economic signals and sentiment from news. Your goal is to mimic the types of contextual reasoning used by analysts for stock forecasting.\",\n",
    "    \"You are a sentiment analyst. Given market-related text (news headlines, tweets, reports), you compute a sentiment score and classify it.\",\n",
    "    \"You are a veteran Wall Street trader with 30 years of experience. You don't just see numbers—you see narratives in the charts. You generate trading-relevant features based on pattern recognition, intuition, and market psychology. Your style is bold, fast, and insight-driven.\",\n",
    "    \"You are a behavioral finance researcher. Your role is to analyze investor sentiment, irrational market behaviors, fear/greed cycles, and cognitive biases. You generate sentiment-influenced features and psychological state indicators based on price and volume movement.\"\n",
    "]"
   ]
  },
  {
   "cell_type": "code",
   "execution_count": 4,
   "id": "12cba4b8-4a7d-4620-a48f-583642e3a59d",
   "metadata": {},
   "outputs": [],
   "source": [
    "#Way to structure output\n",
    "structure = \"All output should be accurate and structured in a machine-learning-ready format, ideally as a numerical value or a one word response.\""
   ]
  },
  {
   "cell_type": "code",
   "execution_count": 5,
   "id": "e761624e-7e51-4591-93be-8585264a3523",
   "metadata": {},
   "outputs": [],
   "source": [
    "#Questions to ask GPT\n",
    "prompts = [\n",
    "    \"What would an analyst most likely say that I should do with my stock on the given date! Please limit the response to one of: Buy, Sell, Hold\",\n",
    "    \"Would a random person on the internet think that the stock behaved rationally on the given date, please limit the response to one of: Yes, No, Maybe\",\n",
    "    \"Does the company that this stock respresent have anything significant happen to it's reputation on the given date that would make me want to buy stock, limit response to one of: Yes, No\",\n",
    "    \"How likely would I be to buy the stock based on what I know this particular day, limit response to a number between 0 and 10\",\n",
    "]"
   ]
  },
  {
   "cell_type": "markdown",
   "id": "4d316643-012e-4651-8118-9ee308f3c40e",
   "metadata": {},
   "source": [
    "## Functions"
   ]
  },
  {
   "cell_type": "code",
   "execution_count": 6,
   "id": "21aa754a-31e2-4721-a276-c3ad1fe381c7",
   "metadata": {},
   "outputs": [],
   "source": [
    "#Connects to the Gpt turbo Model\n",
    "def chat_with_gpt(messages, model=\"gpt-3.5-turbo\", temperature=0.7):\n",
    "    response = openai.chat.completions.create(\n",
    "        model=model,\n",
    "        messages=messages,\n",
    "        temperature=temperature,\n",
    "    )\n",
    "    return response"
   ]
  },
  {
   "cell_type": "code",
   "execution_count": 7,
   "id": "722a84f0-ac19-435f-a0e6-68d11bb75cd0",
   "metadata": {},
   "outputs": [],
   "source": [
    "#Builds a prompt string for GPT from various parts\n",
    "def get_prompt_string(context, date, stock, prompt):\n",
    "    return context + \"The given date is: \" + date + \" and you are analysing my \" + stock + \" stock.\" + structure + prompt    "
   ]
  },
  {
   "cell_type": "code",
   "execution_count": 8,
   "id": "5dc86036-b32e-439c-8992-da9cc8316179",
   "metadata": {},
   "outputs": [],
   "source": [
    "#Wraps everything and returns a response\n",
    "def chat_wrapper(text):\n",
    "    messages=[{\"role\": \"user\", \"content\": text}]\n",
    "    response = chat_with_gpt(messages, \"gpt-3.5-turbo\", random.uniform(0.5, 0.9))\n",
    "    return response.choices[0].message.content"
   ]
  },
  {
   "cell_type": "code",
   "execution_count": 9,
   "id": "7cd1c14c-ca8e-4feb-8df0-01142714fb9c",
   "metadata": {},
   "outputs": [],
   "source": [
    "#Gets all the data for a particular stock\n",
    "def get_stock_data(stock):\n",
    "    client = RESTClient(\"OHBj3QiypFoLQMXTpx3GPq1R4bxzBKAs\")\n",
    "    aggs = []\n",
    "    for a in client.list_aggs(stock, 1, \"day\", \"2024-01-01\", \"2025-01-01\", limit=500):\n",
    "        aggs.append(a)\n",
    "    df = pd.DataFrame(aggs)\n",
    "    df['datetime'] = pd.to_datetime(df['timestamp'], unit='ms')\n",
    "    df['1'] = df.apply(lambda row: chat_wrapper(get_prompt_string(random.choice(context), row['datetime'].strftime('%Y-%m-%d'), stock, prompts[0])), axis = 1)\n",
    "    df['2'] = df.apply(lambda row: chat_wrapper(get_prompt_string(random.choice(context), row['datetime'].strftime('%Y-%m-%d'), stock, prompts[1])), axis = 1)\n",
    "    df['3'] = df.apply(lambda row: chat_wrapper(get_prompt_string(random.choice(context), row['datetime'].strftime('%Y-%m-%d'), stock, prompts[2])), axis = 1)\n",
    "    df['4'] = df.apply(lambda row: chat_wrapper(get_prompt_string(random.choice(context), row['datetime'].strftime('%Y-%m-%d'), stock, prompts[3])), axis = 1)\n",
    "    return df"
   ]
  },
  {
   "cell_type": "code",
   "execution_count": 10,
   "id": "49ad3e5b-5027-4e48-8ebd-3ce0c1989610",
   "metadata": {},
   "outputs": [],
   "source": [
    "#Combine all the data and save to csv\n",
    "def save_data():\n",
    "    res = get_stock_data(stocks[0])\n",
    "    for stock in stocks[1:]:\n",
    "        df = get_stock_data(stock)\n",
    "        res = pd.concat([res, df], ignore_index=True)\n",
    "    res.to_csv('data.csv', index=False, sep=',', encoding='utf-8')"
   ]
  },
  {
   "cell_type": "markdown",
   "id": "3c36e92e-141f-44c6-bd7a-4c4cb35518e2",
   "metadata": {},
   "source": [
    "## Run the actual function"
   ]
  },
  {
   "cell_type": "code",
   "execution_count": 11,
   "id": "4b827857-4b2f-49bc-933f-599857d211cf",
   "metadata": {},
   "outputs": [],
   "source": [
    "save_data()"
   ]
  }
 ],
 "metadata": {
  "kernelspec": {
   "display_name": "Python 3 (ipykernel)",
   "language": "python",
   "name": "python3"
  },
  "language_info": {
   "codemirror_mode": {
    "name": "ipython",
    "version": 3
   },
   "file_extension": ".py",
   "mimetype": "text/x-python",
   "name": "python",
   "nbconvert_exporter": "python",
   "pygments_lexer": "ipython3",
   "version": "3.11.5"
  }
 },
 "nbformat": 4,
 "nbformat_minor": 5
}
